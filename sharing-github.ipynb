{
 "cells": [
  {
   "cell_type": "markdown",
   "metadata": {},
   "source": [
    "# Sharing using `GitHub`"
   ]
  },
  {
   "cell_type": "markdown",
   "metadata": {},
   "source": [
    "Learning Goals\n",
    "\n",
    "- \n",
    "-\n",
    "-"
   ]
  },
  {
   "cell_type": "markdown",
   "metadata": {},
   "source": [
    "### Sharing Your Research\n",
    "\n"
   ]
  },
  {
   "cell_type": "code",
   "execution_count": null,
   "metadata": {},
   "outputs": [],
   "source": [
    "Text"
   ]
  },
  {
   "cell_type": "markdown",
   "metadata": {},
   "source": [
    "## `GitHub`"
   ]
  },
  {
   "cell_type": "markdown",
   "metadata": {},
   "source": [
    "`GitHub` is a development platform where \"you can host and review code, manage projects, and build software.\" GitHub hosts source code for 75+ million projects including the `pandas` package we have been using among many others. "
   ]
  },
  {
   "cell_type": "markdown",
   "metadata": {},
   "source": [
    "### 1. Go to the `GitHub` Homepage"
   ]
  },
  {
   "cell_type": "markdown",
   "metadata": {},
   "source": [
    "To use `GitHub` one needs to register for a (free) account. To register for a `GitHub` account you need to:\n",
    "\n",
    "1. Open a web browser\n",
    "2. Navigate to [github.com](https://github.com)\n",
    "\n",
    "You should see the the web page below.\n",
    "\n",
    "**Note**: If you already have a `GitHub` account you do NOT need to create a new one. Please skip down to step ????."
   ]
  },
  {
   "attachments": {},
   "cell_type": "markdown",
   "metadata": {},
   "source": [
    "![github-homepage-new-user.png](images/github-homepage-new-user.png)"
   ]
  },
  {
   "cell_type": "markdown",
   "metadata": {},
   "source": [
    "### 2. To create a `GitHub` account "
   ]
  },
  {
   "cell_type": "markdown",
   "metadata": {},
   "source": [
    "- On the GitHub homepage enter:\n",
    "\n",
    "    - a username\n",
    "    - an email address\n",
    "    - a password\n",
    "\n",
    "- Click the gree _Sign up for GitHub_ button.\n",
    "\n",
    "An example is shown below."
   ]
  },
  {
   "attachments": {},
   "cell_type": "markdown",
   "metadata": {},
   "source": [
    "![github-new-user-sign-up.png](images/github-new-user-sign-up.png)"
   ]
  },
  {
   "cell_type": "markdown",
   "metadata": {},
   "source": [
    "You will be asked to confirm the email address that you used to sign. Please confirm your email address."
   ]
  },
  {
   "cell_type": "markdown",
   "metadata": {},
   "source": [
    "**Select a plan**\n",
    "\n",
    "Choose the plan you would like to use. By default, a personal plan is selected.\n",
    "\n",
    "Click on _Continue_."
   ]
  },
  {
   "attachments": {},
   "cell_type": "markdown",
   "metadata": {},
   "source": [
    "![github-welcome-step-2.png](images/github-welcome-step-2.png)"
   ]
  },
  {
   "cell_type": "markdown",
   "metadata": {},
   "source": [
    "**Complete your signup**\n",
    "\n",
    "Select any options you would like (on none).\n",
    "\n",
    "Click _Submit_ to complete your `Github` account setup."
   ]
  },
  {
   "attachments": {},
   "cell_type": "markdown",
   "metadata": {},
   "source": [
    "![github-welcome-step-3.png](images/github-welcome-step-3.png)"
   ]
  },
  {
   "cell_type": "markdown",
   "metadata": {},
   "source": [
    "### 3. Create a new reprository"
   ]
  },
  {
   "cell_type": "markdown",
   "metadata": {},
   "source": [
    "- Click on _Start a project_ as shown below."
   ]
  },
  {
   "attachments": {},
   "cell_type": "markdown",
   "metadata": {},
   "source": [
    "![github-dashboard.png](images/github-dashboard.png)"
   ]
  },
  {
   "cell_type": "markdown",
   "metadata": {},
   "source": [
    "To create a new repository:\n",
    "\n",
    "- Add a repository name. We choose to name our repository `sharing-github`.\n",
    "- Personal GitHub accounts require that projects be _public_.\n",
    "- Check the _Initialize this repository with a README_ option.\n",
    "- Click the green _Create repository_ button."
   ]
  },
  {
   "attachments": {},
   "cell_type": "markdown",
   "metadata": {},
   "source": [
    "![github-new-repository-sharing-github.png](images/github-new-repository-sharing-github.png)"
   ]
  },
  {
   "cell_type": "markdown",
   "metadata": {},
   "source": [
    "After creating the new repository, you will be taken to the project homepage (shown below)."
   ]
  },
  {
   "attachments": {},
   "cell_type": "markdown",
   "metadata": {},
   "source": [
    "![github-new-repository-homepage.png](images/github-new-repository-homepage.png)"
   ]
  },
  {
   "cell_type": "markdown",
   "metadata": {},
   "source": [
    "If you click on the `GitHub` icon at the top of the page, you will go to your `GitHub` homepage.\n",
    "\n",
    "Your GitHub homepage will now show the new repository under _Your repositories_ (as shown below)."
   ]
  },
  {
   "attachments": {},
   "cell_type": "markdown",
   "metadata": {},
   "source": [
    "![github-new-user-with-repository.png](images/github-new-user-with-repository.png)"
   ]
  },
  {
   "cell_type": "markdown",
   "metadata": {},
   "source": [
    "To learn more about GitHub you can view the GitHub 'Hello World' guide [here](https://guides.github.com/activities/hello-world/)"
   ]
  },
  {
   "cell_type": "markdown",
   "metadata": {},
   "source": [
    "### 4. Create a simple Jupyter notebook"
   ]
  },
  {
   "cell_type": "markdown",
   "metadata": {},
   "source": []
  },
  {
   "cell_type": "markdown",
   "metadata": {},
   "source": [
    "### 5. Upload hte notebook to the repository"
   ]
  },
  {
   "cell_type": "markdown",
   "metadata": {},
   "source": []
  },
  {
   "cell_type": "markdown",
   "metadata": {},
   "source": [
    "### 6. Create a new Jupyter Notebook"
   ]
  },
  {
   "cell_type": "markdown",
   "metadata": {},
   "source": []
  },
  {
   "cell_type": "code",
   "execution_count": null,
   "metadata": {},
   "outputs": [],
   "source": []
  }
 ],
 "metadata": {
  "kernelspec": {
   "display_name": "Python 3",
   "language": "python",
   "name": "python3"
  },
  "language_info": {
   "codemirror_mode": {
    "name": "ipython",
    "version": 3
   },
   "file_extension": ".py",
   "mimetype": "text/x-python",
   "name": "python",
   "nbconvert_exporter": "python",
   "pygments_lexer": "ipython3",
   "version": "3.6.4"
  }
 },
 "nbformat": 4,
 "nbformat_minor": 2
}
