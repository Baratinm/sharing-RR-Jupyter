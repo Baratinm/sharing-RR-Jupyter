{
 "cells": [
  {
   "cell_type": "markdown",
   "metadata": {},
   "source": [
    "# Sharing an interactive repository with Binder\n",
    "\n",
    "<img src=\"https://mybinder.org/static/logo.svg?v=f9f0d927b67cc9dc99d788c822ca21c0\" style=\"float:left; height:150px\" />"
   ]
  },
  {
   "cell_type": "markdown",
   "metadata": {
    "slideshow": {
     "slide_type": "subslide"
    }
   },
   "source": [
    "* GitHub is a great service for sharing your code, but the materials in a GitHub repository are static."
   ]
  },
  {
   "cell_type": "markdown",
   "metadata": {
    "slideshow": {
     "slide_type": "fragment"
    }
   },
   "source": [
    "* How could you *run* a GitHub repository in your browser?"
   ]
  },
  {
   "cell_type": "markdown",
   "metadata": {
    "slideshow": {
     "slide_type": "fragment"
    }
   },
   "source": [
    "* Running code is much more complicated than simply storing / displaying code. To do so, you need at least the following things:"
   ]
  },
  {
   "cell_type": "markdown",
   "metadata": {
    "slideshow": {
     "slide_type": "subslide"
    }
   },
   "source": [
    "* Hardware on which to run code"
   ]
  },
  {
   "cell_type": "markdown",
   "metadata": {
    "slideshow": {
     "slide_type": "fragment"
    }
   },
   "source": [
    "* All of the software required to run your code, including:\n",
    "  1. Your programming language (e.g., Python, R)\n",
    "  2. Packages needed to run the code (e.g., Pandas, Matplotlib)\n",
    "  3. The code itself."
   ]
  },
  {
   "cell_type": "markdown",
   "metadata": {
    "slideshow": {
     "slide_type": "slide"
    }
   },
   "source": [
    "Binder is a service that attempts to package **both** your code as well as the hardware + software needed to run that code."
   ]
  },
  {
   "cell_type": "markdown",
   "metadata": {
    "slideshow": {
     "slide_type": "fragment"
    }
   },
   "source": [
    "It allows you to share a link that will direct users to a **live, interactive** version of your repository."
   ]
  },
  {
   "cell_type": "markdown",
   "metadata": {
    "slideshow": {
     "slide_type": "subslide"
    }
   },
   "source": [
    "Here's an example of a Binder link:\n",
    "\n",
    "https://mybinder.org/v2/gh/jakevdp/PythonDataScienceHandbook/master?filepath=notebooks%2FIndex.ipynb\n",
    "\n",
    "Clicking it will create a *live* version of Jake van der Plas' Datascience Handbook repository:\n",
    "\n",
    "https://github.com/jakevdp/PythonDataScienceHandbook"
   ]
  },
  {
   "cell_type": "markdown",
   "metadata": {
    "slideshow": {
     "slide_type": "subslide"
    }
   },
   "source": [
    "Note that the Binder link has a very similar structure to the github repository link!"
   ]
  },
  {
   "cell_type": "markdown",
   "metadata": {
    "slideshow": {
     "slide_type": "subslide"
    }
   },
   "source": [
    "## Specifying dependencies for Binder\n",
    "\n",
    "In order to make our repository Binder-ready, we need to create a file that specifies which software tools are needed in order to run its code."
   ]
  },
  {
   "cell_type": "markdown",
   "metadata": {
    "slideshow": {
     "slide_type": "subslide"
    }
   },
   "source": [
    "## Create a new file\n",
    "\n",
    "Using the GitHub GUI, click the \"create new file\" button. This will open a text editor where you can create a new file in your GitHub repository.\n",
    "\n",
    "<img src=\"images\\click_new_file.png\" />"
   ]
  },
  {
   "cell_type": "markdown",
   "metadata": {
    "slideshow": {
     "slide_type": "subslide"
    }
   },
   "source": [
    "## Add software dependencies to this file\n",
    "\n",
    "In the \"new file\" GUI, we'll write down the software tools that are needed to run this code. In our case, this means `matplotlib` and `pandas`.\n",
    "\n",
    "We'll call this file `requirements.txt`, as these are the **requirements** for running the code.\n",
    "\n",
    "<img src=\"images/populate_file.png\" />"
   ]
  },
  {
   "cell_type": "markdown",
   "metadata": {
    "slideshow": {
     "slide_type": "subslide"
    }
   },
   "source": [
    "## Your repository should now have two files in it\n",
    "\n",
    "1. The Jupyter Notebook that you've created.\n",
    "2. The `requirements.txt` file that you just created."
   ]
  },
  {
   "cell_type": "markdown",
   "metadata": {
    "slideshow": {
     "slide_type": "subslide"
    }
   },
   "source": [
    "## Now build your Binder\n",
    "\n",
    "To build a Binder go to `mybinder.org` and paste in the URL of your repository, like so:\n",
    "\n",
    "<img src=\"images/binder_gui.png\" />"
   ]
  },
  {
   "cell_type": "markdown",
   "metadata": {
    "slideshow": {
     "slide_type": "subslide"
    }
   },
   "source": [
    "## Click `launch` to build your Binder\n",
    "\n",
    "Binder will find the `requirements.txt` file that you created and use it to build an environment that has all of the tools needed to run your code. This may take a while!"
   ]
  },
  {
   "cell_type": "markdown",
   "metadata": {
    "slideshow": {
     "slide_type": "fragment"
    }
   },
   "source": [
    "When your repository is finished building, you'll automatically be directed to a live Jupyter Notebook session running in the cloud!"
   ]
  },
  {
   "cell_type": "markdown",
   "metadata": {
    "slideshow": {
     "slide_type": "subslide"
    }
   },
   "source": [
    "## Share your Binder link with others\n",
    "\n",
    "Now that you've made your repository Binder-ready, you can share a link that will let others interact with it.\n",
    "\n",
    "This link is listed in the Binder GUI and should update itself as you fill in the forms. Copy the link and share it with your friends!\n",
    "\n",
    "<img src=\"images/binder_link.png\" />"
   ]
  },
  {
   "cell_type": "markdown",
   "metadata": {
    "slideshow": {
     "slide_type": "slide"
    }
   },
   "source": [
    "## Wrapping up\n",
    "\n",
    "In this section we started with a static GitHub repository with a Jupyter Notebook inside. We then..."
   ]
  },
  {
   "cell_type": "markdown",
   "metadata": {
    "slideshow": {
     "slide_type": "fragment"
    }
   },
   "source": [
    "* Created a file called `requirements.txt` that specified which software was needed to run our code.\n",
    "* Used the `mybinder.org` interface to build a Binder from this repository.\n",
    "* Created a Binder link in order to share our interactive repository with others."
   ]
  },
  {
   "cell_type": "markdown",
   "metadata": {
    "slideshow": {
     "slide_type": "subslide"
    }
   },
   "source": [
    "## Next steps\n",
    "\n",
    "There are many more workflows that you can enable with Binder, and we recommend checking out a list of example Binder repositories at:\n",
    "\n",
    "github.com/binder-examples/."
   ]
  }
 ],
 "metadata": {
  "celltoolbar": "Slideshow",
  "kernelspec": {
   "display_name": "Python 3",
   "language": "python",
   "name": "python3"
  },
  "language_info": {
   "codemirror_mode": {
    "name": "ipython",
    "version": 3
   },
   "file_extension": ".py",
   "mimetype": "text/x-python",
   "name": "python",
   "nbconvert_exporter": "python",
   "pygments_lexer": "ipython3",
   "version": "3.6.2"
  },
  "livereveal": {
   "scroll": true,
   "start_slideshow_at": "selected"
  }
 },
 "nbformat": 4,
 "nbformat_minor": 2
}
